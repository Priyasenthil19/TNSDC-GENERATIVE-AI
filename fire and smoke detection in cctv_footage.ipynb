{
 "cells": [
  {
   "cell_type": "code",
   "execution_count": null,
   "metadata": {
    "colab": {
     "base_uri": "https://localhost:8080/"
    },
    "id": "nnPUIMXHoOIL",
    "outputId": "b665eea9-fd92-4277-fea9-9daea8bf9973"
   },
   "outputs": [
    {
     "name": "stdout",
     "output_type": "stream",
     "text": [
      "Mounted at /content/drive\n"
     ]
    }
   ],
   "source": [
    "from google.colab import drive\n",
    "drive.mount('/content/drive')"
   ]
  },
  {
   "cell_type": "code",
   "execution_count": 6,
   "metadata": {
    "_cell_guid": "b1076dfc-b9ad-4769-8c92-a6c4dae69d19",
    "_uuid": "8f2839f25d086af736a60e9eeb907d3b93b6e0e5",
    "colab": {
     "base_uri": "https://localhost:8080/"
    },
    "id": "QR6HfCNtnvch",
    "outputId": "0d731897-efd2-4952-8155-c316dcce073a"
   },
   "outputs": [
    {
     "name": "stdout",
     "output_type": "stream",
     "text": [
      "['test', 'train']\n",
      "['test3.mp4', 'test2.mp4', 'test1.mp4']\n",
      "['Resnet50', 'VGG16']\n",
      "['resnet50_weights_tf_dim_ordering_tf_kernels.h5', 'resnet50_weights_tf_dim_ordering_tf_kernels_notop.h5', 'imagenet_class_index.json']\n",
      "['vgg16_weights_tf_dim_ordering_tf_kernels_notop.h5', 'vgg16_weights_tf_dim_ordering_tf_kernels.h5', 'imagenet_class_index.json']\n"
     ]
    }
   ],
   "source": [
    "# This Python 3 environment comes with many helpful analytics libraries installed\n",
    "# It is defined by the kaggle/python docker image: https://github.com/kaggle/docker-python\n",
    "# For example, here's several helpful packages to load in\n",
    "\n",
    "import numpy as np # linear algebra\n",
    "import pandas as pd # data processing, CSV file I/O (e.g. pd.read_csv)'\n",
    "import matplotlib.pyplot as plt\n",
    "from tensorflow.keras.applications import ResNet50\n",
    "from tensorflow.keras.applications import VGG16\n",
    "from tensorflow.keras.models import Sequential\n",
    "from tensorflow.keras.layers import Dense, Flatten, GlobalAveragePooling2D\n",
    "from tensorflow.keras.applications.resnet50 import preprocess_input\n",
    "from tensorflow.keras.preprocessing.image import ImageDataGenerator\n",
    "from sklearn.utils import class_weight\n",
    "from tensorflow.keras import optimizers\n",
    "\n",
    "\n",
    "import cv2\n",
    "import math\n",
    "from IPython.display import clear_output\n",
    "%matplotlib inline\n",
    "\n",
    "# Input data files are available in the \"../input/\" directory.\n",
    "# For example, running this (by clicking run or pressing Shift+Enter) will list the files in the input directory\n",
    "\n",
    "import os\n",
    "print(os.listdir(\"../content/drive/MyDrive/Dataset/data/data/img_data\"))\n",
    "print(os.listdir(\"../content/drive/MyDrive/Dataset/data/data/video_data/test_videos\"))\n",
    "print(os.listdir(\"../content/drive/MyDrive/Fire Detection\"))\n",
    "\n",
    "print(os.listdir(\"../content/drive/MyDrive/Fire Detection/Resnet50\"))\n",
    "print(os.listdir(\"../content/drive/MyDrive/Fire Detection/VGG16\"))\n",
    "\n",
    "# Any results you write to the current directory are saved as output."
   ]
  },
  {
   "cell_type": "code",
   "execution_count": 7,
   "metadata": {
    "id": "jMMEPlx2nvci"
   },
   "outputs": [],
   "source": [
    "IMG_SIZE = 224\n",
    "NUM_EPOCHS = 20\n",
    "NUM_CLASSES = 3\n",
    "TRAIN_BATCH_SIZE = 77\n",
    "TEST_BATCH_SIZE = 1\n"
   ]
  },
  {
   "cell_type": "markdown",
   "metadata": {
    "id": "jaE0WKBXnvci"
   },
   "source": [
    "## Model Creation\n",
    "\n"
   ]
  },
  {
   "cell_type": "code",
   "execution_count": 24,
   "metadata": {
    "_cell_guid": "79c7e3d0-c299-4dcb-8224-4455121ee9b0",
    "_uuid": "d629ff2d2480ee46fbb7e2d37f6b5fab8052498a",
    "id": "MANx5MUKnvcj"
   },
   "outputs": [],
   "source": [
    "from keras.optimizers import Adam\n",
    "def create_model( model_size ):\n",
    "    my_new_model = Sequential()\n",
    "    if  model_size == 'L':\n",
    "        resnet_weights_path = '../input/resnet50/resnet50_weights_tf_dim_ordering_tf_kernels_notop.h5'\n",
    "        resnet = ResNet50(include_top=False, pooling='avg', weights='imagenet')\n",
    "        #resnet.summary()\n",
    "        my_new_model.add(resnet)\n",
    "        my_new_model.layers[0].trainable = False\n",
    "    else:\n",
    "        vgg_weights_path = '../input/vgg16/vgg16_weights_tf_dim_ordering_tf_kernels_notop.h5'\n",
    "        vgg= VGG16(include_top=False, weights=vgg_weights_path )\n",
    "        vgg.summary()\n",
    "        my_new_model.add(vgg)\n",
    "        my_new_model.add(GlobalAveragePooling2D())\n",
    "        my_new_model.layers[0].trainable = False\n",
    "        my_new_model.layers[1].trainable = False\n",
    "\n",
    "    my_new_model.add(Dense(NUM_CLASSES, activation='softmax'))\n",
    "\n",
    "    # Say no to train first layer (ResNet) model. It is already trained\n",
    "\n",
    "    opt = Adam()\n",
    "    my_new_model.compile(optimizer=opt, loss='categorical_crossentropy', metrics=['accuracy'])\n",
    "    return my_new_model"
   ]
  },
  {
   "cell_type": "markdown",
   "metadata": {
    "id": "TplT1xElnvcj"
   },
   "source": [
    "## Training\n",
    "\n"
   ]
  },
  {
   "cell_type": "code",
   "execution_count": 27,
   "metadata": {
    "id": "SASw8pnunvcj"
   },
   "outputs": [],
   "source": [
    "def train_model( model ):\n",
    "    #ata_generator = ImageDataGenerator(preprocessing_function=preprocess_input)\n",
    "\n",
    "    data_generator_with_aug = ImageDataGenerator(preprocessing_function=preprocess_input,\n",
    "                                width_shift_range=0.1,\n",
    "                                height_shift_range=0.1,\n",
    "                                #sear_range=0.01,\n",
    "                                zoom_range=[0.9, 1.25],\n",
    "                                horizontal_flip=True,\n",
    "                                vertical_flip=False,\n",
    "                                data_format='channels_last',\n",
    "                                brightness_range=[0.5, 1.5]\n",
    "                               )\n",
    "\n",
    "    train_generator = data_generator_with_aug.flow_from_directory(\n",
    "            '../content/drive/MyDrive/Dataset/data/data/img_data/train',\n",
    "            target_size=(IMG_SIZE, IMG_SIZE),\n",
    "            batch_size=TRAIN_BATCH_SIZE,\n",
    "            class_mode='categorical')\n",
    "\n",
    "\n",
    "    validation_generator = data_generator_with_aug.flow_from_directory(\n",
    "            '../content/drive/MyDrive/Dataset/data/data/img_data/test',\n",
    "            target_size=(IMG_SIZE, IMG_SIZE),\n",
    "            batch_size=TEST_BATCH_SIZE,\n",
    "            shuffle = False,\n",
    "            class_mode='categorical')\n",
    "\n",
    "\n",
    "    #y_train = get_labels(train_generator)\n",
    "    #weights = class_weight.compute_class_weight('balanced',np.unique(y_train), y_train)\n",
    "    #dict_weights = { i: weights[i] for i in range(len(weights)) }\n",
    "\n",
    "    H = model.fit_generator(\n",
    "            train_generator,\n",
    "            steps_per_epoch=train_generator.n/TRAIN_BATCH_SIZE,\n",
    "            epochs=NUM_EPOCHS,\n",
    "            validation_data=validation_generator,\n",
    "            validation_steps=1 #,\n",
    "            #class_weight=dict_weights\n",
    "                )\n",
    "\n",
    "   # plot_history( H, NUM_EPOCHS )\n",
    "\n",
    "    return model, train_generator,validation_generator"
   ]
  },
  {
   "cell_type": "code",
   "execution_count": 10,
   "metadata": {
    "id": "sebk53xFnvcj"
   },
   "outputs": [],
   "source": [
    "def get_label_dict(train_generator ):\n",
    "# Get label to class_id mapping\n",
    "    labels = (train_generator.class_indices)\n",
    "    label_dict = dict((v,k) for k,v in labels.items())\n",
    "    return  label_dict"
   ]
  },
  {
   "cell_type": "code",
   "execution_count": 11,
   "metadata": {
    "id": "otezIYQjnvcj"
   },
   "outputs": [],
   "source": [
    "def get_labels( generator ):\n",
    "    generator.reset()\n",
    "    labels = []\n",
    "    for i in range(len(generator)):\n",
    "        labels.extend(np.array(generator[i][1]) )\n",
    "    return np.argmax(labels, axis =1)"
   ]
  },
  {
   "cell_type": "code",
   "execution_count": 12,
   "metadata": {
    "id": "aqems8CFnvcj"
   },
   "outputs": [],
   "source": [
    "def get_pred_labels( test_generator):\n",
    "    test_generator.reset()\n",
    "    pred_vec=model.predict_generator(test_generator,\n",
    "                                     steps=test_generator.n, #test_generator.batch_size\n",
    "                                     verbose=1)\n",
    "    return np.argmax( pred_vec, axis = 1), np.max(pred_vec, axis = 1)\n"
   ]
  },
  {
   "cell_type": "code",
   "execution_count": 18,
   "metadata": {
    "id": "xeUR4uLSnvcj"
   },
   "outputs": [],
   "source": [
    "def plot_history( H, NUM_EPOCHS ):\n",
    "    plt.style.use(\"ggplot\")\n",
    "    fig = plt.figure()\n",
    "    fig.set_size_inches(15, 5)\n",
    "\n",
    "    fig.add_subplot(1, 3, 1)\n",
    "    plt.plot(np.arange(0, NUM_EPOCHS), H.history[\"loss\"], label=\"train_loss\")\n",
    "    plt.plot(np.arange(0, NUM_EPOCHS), H.history[\"val_loss\"], label=\"val_loss\")\n",
    "    plt.title(\"Training Loss and Validation Loss on Dataset\")\n",
    "    plt.xlabel(\"Epoch #\")\n",
    "    plt.ylabel(\"Loss\")\n",
    "    plt.legend(loc=\"lower left\")\n",
    "\n",
    "\n",
    "    fig.add_subplot(1, 3, 2)\n",
    "    plt.plot(np.arange(0, NUM_EPOCHS), H.history[\"loss\"], label=\"train_loss\")\n",
    "   # plt.plot(np.arange(0, NUM_EPOCHS), H.history[\"acc\"], label=\"train_acc\")\n",
    "    plt.title(\"Training Loss and Accuracy on Dataset\")\n",
    "    plt.xlabel(\"Epoch #\")\n",
    "    plt.ylabel(\"Loss/Accuracy\")\n",
    "    plt.legend(loc=\"lower left\")\n",
    "\n",
    "    fig.add_subplot(1, 3, 3)\n",
    "    plt.plot(np.arange(0, NUM_EPOCHS), H.history[\"val_loss\"], label=\"val_loss\")\n",
    "    plt.plot(np.arange(0, NUM_EPOCHS), H.history[\"val_acc\"], label=\"val_acc\")\n",
    "    plt.title(\"Validation Loss and Accuracy on Dataset\")\n",
    "    plt.xlabel(\"Epoch #\")\n",
    "    plt.ylabel(\"Loss/Accuracy\")\n",
    "    plt.legend(loc=\"lower left\")\n",
    "\n",
    "\n",
    "    plt.show()\n",
    "    #plt.savefig(\"plot.png\")\n"
   ]
  },
  {
   "cell_type": "markdown",
   "metadata": {
    "id": "MieCX780nvck"
   },
   "source": [
    "## Prediction\n",
    "\n"
   ]
  },
  {
   "cell_type": "code",
   "execution_count": 14,
   "metadata": {
    "id": "F1SvRmJEnvck"
   },
   "outputs": [],
   "source": [
    "def draw_prediction( frame, class_string ):\n",
    "    x_start = frame.shape[1] -600\n",
    "    cv2.putText(frame, class_string, (x_start, 75), cv2.FONT_HERSHEY_SIMPLEX, 2.5, (255, 0, 0), 2, cv2.LINE_AA)\n",
    "    return frame"
   ]
  },
  {
   "cell_type": "code",
   "execution_count": 15,
   "metadata": {
    "id": "VGbbBGi3nvck"
   },
   "outputs": [],
   "source": [
    "def prepare_image_for_prediction( img):\n",
    "\n",
    "    # convert 3D tensor to 4D tensor with shape (1, 224, 224, 3) and return 4D tensor\n",
    "    # The below function inserts an additional dimension at the axis position provided\n",
    "    img = np.expand_dims(img, axis=0)\n",
    "    # perform pre-processing that was done when resnet model was trained.\n",
    "    return preprocess_input(img)"
   ]
  },
  {
   "cell_type": "code",
   "execution_count": 25,
   "metadata": {
    "id": "H5SlLsxWnvck"
   },
   "outputs": [],
   "source": [
    "model = create_model('L')"
   ]
  },
  {
   "cell_type": "code",
   "execution_count": 28,
   "metadata": {
    "colab": {
     "base_uri": "https://localhost:8080/"
    },
    "id": "GkDRwERPnvck",
    "outputId": "ea8fd819-76a8-4e99-cc2c-7bd23200fdc6"
   },
   "outputs": [
    {
     "name": "stdout",
     "output_type": "stream",
     "text": [
      "Found 693 images belonging to 3 classes.\n",
      "Found 171 images belonging to 3 classes.\n"
     ]
    },
    {
     "name": "stderr",
     "output_type": "stream",
     "text": [
      "<ipython-input-27-148d109ddf16>:34: UserWarning: `Model.fit_generator` is deprecated and will be removed in a future version. Please use `Model.fit`, which supports generators.\n",
      "  H = model.fit_generator(\n"
     ]
    },
    {
     "name": "stdout",
     "output_type": "stream",
     "text": [
      "Epoch 1/20\n",
      "9/9 [==============================] - 343s 36s/step - loss: 0.9934 - accuracy: 0.5411 - val_loss: 2.2976 - val_accuracy: 0.0000e+00\n",
      "Epoch 2/20\n",
      "9/9 [==============================] - 140s 15s/step - loss: 0.5244 - accuracy: 0.8153 - val_loss: 1.4508 - val_accuracy: 0.0000e+00\n",
      "Epoch 3/20\n",
      "9/9 [==============================] - 137s 15s/step - loss: 0.3677 - accuracy: 0.8788 - val_loss: 1.5266 - val_accuracy: 0.0000e+00\n",
      "Epoch 4/20\n",
      "9/9 [==============================] - 140s 15s/step - loss: 0.2991 - accuracy: 0.9163 - val_loss: 1.9393 - val_accuracy: 0.0000e+00\n",
      "Epoch 5/20\n",
      "9/9 [==============================] - 138s 15s/step - loss: 0.2530 - accuracy: 0.9149 - val_loss: 0.6009 - val_accuracy: 1.0000\n",
      "Epoch 6/20\n",
      "9/9 [==============================] - 138s 15s/step - loss: 0.2356 - accuracy: 0.9206 - val_loss: 1.4172 - val_accuracy: 0.0000e+00\n",
      "Epoch 7/20\n",
      "9/9 [==============================] - 134s 15s/step - loss: 0.2131 - accuracy: 0.9278 - val_loss: 1.6635 - val_accuracy: 0.0000e+00\n",
      "Epoch 8/20\n",
      "9/9 [==============================] - 148s 16s/step - loss: 0.1965 - accuracy: 0.9278 - val_loss: 1.8131 - val_accuracy: 0.0000e+00\n",
      "Epoch 9/20\n",
      "9/9 [==============================] - 138s 15s/step - loss: 0.1791 - accuracy: 0.9380 - val_loss: 0.7519 - val_accuracy: 1.0000\n",
      "Epoch 10/20\n",
      "9/9 [==============================] - 139s 15s/step - loss: 0.1660 - accuracy: 0.9423 - val_loss: 1.0666 - val_accuracy: 0.0000e+00\n",
      "Epoch 11/20\n",
      "9/9 [==============================] - 139s 15s/step - loss: 0.1644 - accuracy: 0.9394 - val_loss: 1.3374 - val_accuracy: 0.0000e+00\n",
      "Epoch 12/20\n",
      "9/9 [==============================] - 148s 16s/step - loss: 0.1378 - accuracy: 0.9553 - val_loss: 1.3521 - val_accuracy: 0.0000e+00\n",
      "Epoch 13/20\n",
      "9/9 [==============================] - 139s 15s/step - loss: 0.1567 - accuracy: 0.9423 - val_loss: 1.0382 - val_accuracy: 0.0000e+00\n",
      "Epoch 14/20\n",
      "9/9 [==============================] - 139s 15s/step - loss: 0.1277 - accuracy: 0.9582 - val_loss: 0.8893 - val_accuracy: 0.0000e+00\n",
      "Epoch 15/20\n",
      "9/9 [==============================] - 140s 15s/step - loss: 0.1247 - accuracy: 0.9553 - val_loss: 0.3819 - val_accuracy: 1.0000\n",
      "Epoch 16/20\n",
      "9/9 [==============================] - 149s 16s/step - loss: 0.1097 - accuracy: 0.9654 - val_loss: 1.0406 - val_accuracy: 0.0000e+00\n",
      "Epoch 17/20\n",
      "9/9 [==============================] - 139s 15s/step - loss: 0.1108 - accuracy: 0.9654 - val_loss: 0.4315 - val_accuracy: 1.0000\n",
      "Epoch 18/20\n",
      "9/9 [==============================] - 140s 15s/step - loss: 0.1105 - accuracy: 0.9625 - val_loss: 0.7265 - val_accuracy: 1.0000\n",
      "Epoch 19/20\n",
      "9/9 [==============================] - 138s 15s/step - loss: 0.1142 - accuracy: 0.9697 - val_loss: 0.8335 - val_accuracy: 0.0000e+00\n",
      "Epoch 20/20\n",
      "9/9 [==============================] - 139s 15s/step - loss: 0.0998 - accuracy: 0.9610 - val_loss: 0.0467 - val_accuracy: 1.0000\n"
     ]
    }
   ],
   "source": [
    "trained_model_l, train_generator,validation_generator = train_model(model)\n",
    "label_dict_l = get_label_dict(train_generator )"
   ]
  },
  {
   "cell_type": "code",
   "execution_count": null,
   "metadata": {
    "id": "NrwXXGvJnvck",
    "outputId": "7950924e-8102-4a9d-a4ce-14725c1e2fcb"
   },
   "outputs": [
    {
     "name": "stdout",
     "output_type": "stream",
     "text": [
      "Model: \"vgg16\"\n",
      "_________________________________________________________________\n",
      "Layer (type)                 Output Shape              Param #   \n",
      "=================================================================\n",
      "input_2 (InputLayer)         [(None, None, None, 3)]   0         \n",
      "_________________________________________________________________\n",
      "block1_conv1 (Conv2D)        (None, None, None, 64)    1792      \n",
      "_________________________________________________________________\n",
      "block1_conv2 (Conv2D)        (None, None, None, 64)    36928     \n",
      "_________________________________________________________________\n",
      "block1_pool (MaxPooling2D)   (None, None, None, 64)    0         \n",
      "_________________________________________________________________\n",
      "block2_conv1 (Conv2D)        (None, None, None, 128)   73856     \n",
      "_________________________________________________________________\n",
      "block2_conv2 (Conv2D)        (None, None, None, 128)   147584    \n",
      "_________________________________________________________________\n",
      "block2_pool (MaxPooling2D)   (None, None, None, 128)   0         \n",
      "_________________________________________________________________\n",
      "block3_conv1 (Conv2D)        (None, None, None, 256)   295168    \n",
      "_________________________________________________________________\n",
      "block3_conv2 (Conv2D)        (None, None, None, 256)   590080    \n",
      "_________________________________________________________________\n",
      "block3_conv3 (Conv2D)        (None, None, None, 256)   590080    \n",
      "_________________________________________________________________\n",
      "block3_pool (MaxPooling2D)   (None, None, None, 256)   0         \n",
      "_________________________________________________________________\n",
      "block4_conv1 (Conv2D)        (None, None, None, 512)   1180160   \n",
      "_________________________________________________________________\n",
      "block4_conv2 (Conv2D)        (None, None, None, 512)   2359808   \n",
      "_________________________________________________________________\n",
      "block4_conv3 (Conv2D)        (None, None, None, 512)   2359808   \n",
      "_________________________________________________________________\n",
      "block4_pool (MaxPooling2D)   (None, None, None, 512)   0         \n",
      "_________________________________________________________________\n",
      "block5_conv1 (Conv2D)        (None, None, None, 512)   2359808   \n",
      "_________________________________________________________________\n",
      "block5_conv2 (Conv2D)        (None, None, None, 512)   2359808   \n",
      "_________________________________________________________________\n",
      "block5_conv3 (Conv2D)        (None, None, None, 512)   2359808   \n",
      "_________________________________________________________________\n",
      "block5_pool (MaxPooling2D)   (None, None, None, 512)   0         \n",
      "=================================================================\n",
      "Total params: 14,714,688\n",
      "Trainable params: 14,714,688\n",
      "Non-trainable params: 0\n",
      "_________________________________________________________________\n"
     ]
    }
   ],
   "source": [
    "model = create_model('S')"
   ]
  },
  {
   "cell_type": "code",
   "execution_count": null,
   "metadata": {
    "id": "kxNeOVHBnvck",
    "outputId": "bc995fed-a490-4789-ace2-58e348f78f98"
   },
   "outputs": [
    {
     "name": "stdout",
     "output_type": "stream",
     "text": [
      "Found 693 images belonging to 3 classes.\n",
      "Found 171 images belonging to 3 classes.\n",
      "Epoch 1/20\n",
      "9/9 [==============================] - 11s 1s/step - loss: 2.2800 - acc: 0.4257 - val_loss: 0.3528 - val_acc: 1.0000\n",
      "Epoch 2/20\n",
      "9/9 [==============================] - 9s 1s/step - loss: 1.5498 - acc: 0.5123 - val_loss: 0.0308 - val_acc: 1.0000\n",
      "Epoch 3/20\n",
      "9/9 [==============================] - 10s 1s/step - loss: 1.0122 - acc: 0.6696 - val_loss: 0.0322 - val_acc: 1.0000\n",
      "Epoch 4/20\n",
      "9/9 [==============================] - 10s 1s/step - loss: 0.7616 - acc: 0.7287 - val_loss: 0.0999 - val_acc: 1.0000\n",
      "Epoch 5/20\n",
      "9/9 [==============================] - 10s 1s/step - loss: 0.5658 - acc: 0.7994 - val_loss: 0.2316 - val_acc: 1.0000\n",
      "Epoch 6/20\n",
      "9/9 [==============================] - 10s 1s/step - loss: 0.4904 - acc: 0.8297 - val_loss: 0.1394 - val_acc: 1.0000\n",
      "Epoch 7/20\n",
      "9/9 [==============================] - 10s 1s/step - loss: 0.4593 - acc: 0.8369 - val_loss: 0.3082 - val_acc: 1.0000\n",
      "Epoch 8/20\n",
      "9/9 [==============================] - 10s 1s/step - loss: 0.4219 - acc: 0.8528 - val_loss: 0.1558 - val_acc: 1.0000\n",
      "Epoch 9/20\n",
      "9/9 [==============================] - 10s 1s/step - loss: 0.3465 - acc: 0.8990 - val_loss: 0.2362 - val_acc: 1.0000\n",
      "Epoch 10/20\n",
      "9/9 [==============================] - 10s 1s/step - loss: 0.3340 - acc: 0.8716 - val_loss: 0.0901 - val_acc: 1.0000\n",
      "Epoch 11/20\n",
      "9/9 [==============================] - 10s 1s/step - loss: 0.3569 - acc: 0.8745 - val_loss: 2.1285 - val_acc: 0.0000e+00\n",
      "Epoch 12/20\n",
      "9/9 [==============================] - 10s 1s/step - loss: 0.2768 - acc: 0.9033 - val_loss: 0.0525 - val_acc: 1.0000\n",
      "Epoch 13/20\n",
      "9/9 [==============================] - 10s 1s/step - loss: 0.2537 - acc: 0.9120 - val_loss: 0.1141 - val_acc: 1.0000\n",
      "Epoch 14/20\n",
      "9/9 [==============================] - 10s 1s/step - loss: 0.2543 - acc: 0.8961 - val_loss: 0.0664 - val_acc: 1.0000\n",
      "Epoch 15/20\n",
      "9/9 [==============================] - 10s 1s/step - loss: 0.2594 - acc: 0.9004 - val_loss: 0.0676 - val_acc: 1.0000\n",
      "Epoch 16/20\n",
      "9/9 [==============================] - 10s 1s/step - loss: 0.2359 - acc: 0.9134 - val_loss: 0.1079 - val_acc: 1.0000\n",
      "Epoch 17/20\n",
      "9/9 [==============================] - 10s 1s/step - loss: 0.2484 - acc: 0.9062 - val_loss: 0.1757 - val_acc: 1.0000\n",
      "Epoch 18/20\n",
      "9/9 [==============================] - 10s 1s/step - loss: 0.2180 - acc: 0.9163 - val_loss: 0.0152 - val_acc: 1.0000\n",
      "Epoch 19/20\n",
      "9/9 [==============================] - 10s 1s/step - loss: 0.2017 - acc: 0.9278 - val_loss: 0.3159 - val_acc: 1.0000\n",
      "Epoch 20/20\n",
      "9/9 [==============================] - 10s 1s/step - loss: 0.2238 - acc: 0.9120 - val_loss: 0.6523 - val_acc: 1.0000\n"
     ]
    },
    {
     "data": {
      "image/png": "[encoded data removed]",
      "text/plain": [
       "<Figure size 1080x360 with 3 Axes>"
      ]
     },
     "metadata": {},
     "output_type": "display_data"
    }
   ],
   "source": [
    "#trained_model_s, train_generator,validation_generator = train_model(model)\n",
    "#label_dict_s = get_label_dict(train_generator)"
   ]
  },
  {
   "cell_type": "code",
   "execution_count": 29,
   "metadata": {
    "id": "GMp5R8CHnvcl"
   },
   "outputs": [],
   "source": [
    "def get_display_string(pred_class, label_dict):\n",
    "    txt = \"\"\n",
    "    for c, confidence in pred_class:\n",
    "        txt += label_dict[c]\n",
    "        if c :\n",
    "            txt += '['+ str(confidence) +']'\n",
    "    #print(\"count=\"+str(len(pred_class)) + \" txt:\" + txt)\n",
    "    return txt"
   ]
  },
  {
   "cell_type": "code",
   "execution_count": 30,
   "metadata": {
    "id": "8-NrP9UEnvcl"
   },
   "outputs": [],
   "source": [
    "\n",
    "def predict(  model, video_path, filename, label_dict ):\n",
    "\n",
    "    vs = cv2.VideoCapture(video_path)\n",
    "    fps = math.floor(vs.get(cv2.CAP_PROP_FPS))\n",
    "    ret_val = True\n",
    "    writer = 0\n",
    "\n",
    "    while True:\n",
    "        ret_val, frame = vs.read()\n",
    "        if not ret_val:\n",
    "            break\n",
    "\n",
    "        resized_frame = cv2.resize(frame, (IMG_SIZE, IMG_SIZE))\n",
    "        frame_for_pred = prepare_image_for_prediction( resized_frame )\n",
    "        pred_vec = model.predict(frame_for_pred)\n",
    "        #print(pred_vec)\n",
    "        pred_class =[]\n",
    "        confidence = np.round(pred_vec.max(),2)\n",
    "\n",
    "        if confidence > 0.4:\n",
    "            pc = pred_vec.argmax()\n",
    "            pred_class.append( (pc, confidence) )\n",
    "        else:\n",
    "            pred_class.append( (0, 0) )\n",
    "        if pred_class:\n",
    "            txt = get_display_string(pred_class, label_dict)\n",
    "            frame = draw_prediction( frame, txt )\n",
    "        #print(pred_class)\n",
    "        #plt.axis('off')\n",
    "        #plt.imshow(frame)\n",
    "        #plt.show()\n",
    "        #clear_output(wait = True)\n",
    "        if not writer:\n",
    "            fourcc = cv2.VideoWriter_fourcc(*\"XVID\")\n",
    "            writer = cv2.VideoWriter(filename, fourcc, fps,(frame.shape[1], frame.shape[0]), True)\n",
    "\n",
    "        # write the out\n",
    "        writer.write(frame)\n",
    "\n",
    "    vs.release()\n",
    "    writer.release()\n",
    "\n"
   ]
  },
  {
   "cell_type": "code",
   "execution_count": null,
   "metadata": {
    "id": "wCJxEZ9snvcl"
   },
   "outputs": [],
   "source": [
    "#test_lables = get_test_labels( validation_generator )\n",
    "#print(test_lables)"
   ]
  },
  {
   "cell_type": "code",
   "execution_count": null,
   "metadata": {
    "id": "Bd07xNjynvcl"
   },
   "outputs": [],
   "source": [
    "#pred_lables, confidence = get_pred_labels( validation_generator )\n",
    "#print( pred_lables )\n"
   ]
  },
  {
   "cell_type": "code",
   "execution_count": null,
   "metadata": {
    "id": "6AGL6zHMnvcl"
   },
   "outputs": [],
   "source": [
    "video_path = '../content/drive/MyDrive/Dataset/data/data/video_data/test_videos/test1.mp4'\n",
    "predict ( trained_model_l, video_path, 'test1_9.avi',  label_dict_l)\n",
    "\n",
    "video_path = '../content/drive/MyDrive/Dataset/data/data/video_data/test_videos/test2.mp4'\n",
    " predict ( trained_model_l, video_path, 'test2_9.avi',  label_dict_l)\n",
    "\n",
    " video_path = '../content/drive/MyDrive/Dataset/data/data/video_data/test_videos/test3.mp4'\n",
    " predict ( trained_model_l, video_path, 'test3_9.avi',  label_dict_l)"
   ]
  },
  {
   "cell_type": "code",
   "execution_count": 31,
   "metadata": {
    "colab": {
     "base_uri": "https://localhost:8080/"
    },
    "id": "LIg4aJ4bnvcm",
    "outputId": "7a8d685c-fe9d-4d98-b8e7-53389694cf57"
   },
   "outputs": [
    {
     "name": "stderr",
     "output_type": "stream",
     "text": [
      "/usr/local/lib/python3.10/dist-packages/keras/src/engine/training.py:3103: UserWarning: You are saving your model as an HDF5 file via `model.save()`. This file format is considered legacy. We recommend using instead the native Keras format, e.g. `model.save('my_model.keras')`.\n",
      "  saving_api.save_model(\n"
     ]
    }
   ],
   "source": [
    "trained_model_l.save('Detection_model.h5')"
   ]
  }
 ],
 "metadata": {
  "colab": {
   "provenance": []
  },
  "kernelspec": {
   "display_name": "Python 3 (ipykernel)",
   "language": "python",
   "name": "python3"
  },
  "language_info": {
   "codemirror_mode": {
    "name": "ipython",
    "version": 3
   },
   "file_extension": ".py",
   "mimetype": "text/x-python",
   "name": "python",
   "nbconvert_exporter": "python",
   "pygments_lexer": "ipython3",
   "version": "3.11.4"
  }
 },
 "nbformat": 4,
 "nbformat_minor": 1
}
